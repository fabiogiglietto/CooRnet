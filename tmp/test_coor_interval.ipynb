{
 "cells": [
  {
   "cell_type": "code",
   "execution_count": 487,
   "metadata": {},
   "outputs": [],
   "source": [
    "import pandas as pd\n",
    "pd.options.mode.chained_assignment = None\n",
    "import numpy as np"
   ]
  },
  {
   "cell_type": "code",
   "execution_count": 488,
   "metadata": {},
   "outputs": [],
   "source": [
    "# Import ct_shares_marked as df\n",
    "df = pd.read_csv('ct_shares_marked.csv')"
   ]
  },
  {
   "cell_type": "code",
   "execution_count": 489,
   "metadata": {},
   "outputs": [
    {
     "name": "stdout",
     "output_type": "stream",
     "text": [
      "The Coornet estimated confidence interval is 39 seconds.\n"
     ]
    }
   ],
   "source": [
    "# Show the coordination interval in seconds\n",
    "coor_interval = 39\n",
    "print('The Coornet estimated confidence interval is ' f'{coor_interval}' ' seconds.')"
   ]
  },
  {
   "cell_type": "code",
   "execution_count": 486,
   "metadata": {},
   "outputs": [
    {
     "name": "stdout",
     "output_type": "stream",
     "text": [
      "Coornet estimates that 787 out of 815 shares are coordinated. 0.9656441717791411 coordination ratio.\n"
     ]
    }
   ],
   "source": [
    "# Coordinated shares marked in 'ct_shares_marked.csv'\n",
    "coordinated = df[df['is_coordinated'] == True]\n",
    "coor_ratio = len(coordinated)/(len(df))\n",
    "print('Coornet estimates that ' f'{len(coordinated)}'' out of ' f'{len(df)}'' shares are coordinated. ' f'{coor_ratio}' ' coordination ratio.')"
   ]
  },
  {
   "cell_type": "code",
   "execution_count": 491,
   "metadata": {},
   "outputs": [
    {
     "name": "stdout",
     "output_type": "stream",
     "text": [
      "With the new method, coornet estimates that 285 out of 815 shares are coordinated. 0.3496932515337423 coordination ratio.\n"
     ]
    }
   ],
   "source": [
    "# For each article shared, sort the dataframe chronologically (ascending)\n",
    "df = df.sort_values(by=['expanded', 'date']).reset_index(drop=True)\n",
    "df.date = pd.to_datetime(df.date)\n",
    "\n",
    "# Get the interval representing the difference between an entry and the following entry\n",
    "df['interval'] = df.groupby('expanded')['date'].transform(lambda x: x.diff()/np.timedelta64(1, 's'))\n",
    "\n",
    "# If the difference between 2 entries is greater than the coordination interval, assign both rows ‘coor == True’.  \n",
    "# Otherwise, assign ’coor == False’.\n",
    "df['coor'] = ''\n",
    "for i, row in df.interval.iteritems():\n",
    "    if df.loc[i, 'interval'] < coor_interval:\n",
    "        df['coor'].loc[i] = True\n",
    "        df['coor'].loc[i-1] = True\n",
    "    else:\n",
    "        df['coor'].loc[i] = False\n",
    "\n",
    "# Print the number of coordinated shares\n",
    "coordinated = df[df['coor'] == True]\n",
    "coor_ratio = len(coordinated)/(len(df))\n",
    "print('With the new method, coornet estimates that ' f'{len(coordinated)}'' out of ' f'{len(df)}'' shares are coordinated. ' f'{coor_ratio}' ' coordination ratio.')"
   ]
  },
  {
   "cell_type": "code",
   "execution_count": null,
   "metadata": {},
   "outputs": [],
   "source": [
    "df.to_csv('ct_shares_marked_new.csv', index=False)"
   ]
  }
 ],
 "metadata": {
  "interpreter": {
   "hash": "fca590db4c16d0b8b17365929dfe478b7f87b7b5e79d1edcd828074d3c0516b7"
  },
  "kernelspec": {
   "display_name": "Python 3.8.5 ('base')",
   "language": "python",
   "name": "python3"
  },
  "language_info": {
   "codemirror_mode": {
    "name": "ipython",
    "version": 3
   },
   "file_extension": ".py",
   "mimetype": "text/x-python",
   "name": "python",
   "nbconvert_exporter": "python",
   "pygments_lexer": "ipython3",
   "version": "3.8.5"
  },
  "orig_nbformat": 4
 },
 "nbformat": 4,
 "nbformat_minor": 2
}
